{
  "nbformat": 4,
  "nbformat_minor": 0,
  "metadata": {
    "colab": {
      "provenance": [],
      "toc_visible": true,
      "authorship_tag": "ABX9TyPJz3TZNdglw6MEdSGyV2BL",
      "include_colab_link": true
    },
    "kernelspec": {
      "name": "python3",
      "display_name": "Python 3"
    },
    "language_info": {
      "name": "python"
    }
  },
  "cells": [
    {
      "cell_type": "markdown",
      "metadata": {
        "id": "view-in-github",
        "colab_type": "text"
      },
      "source": [
        "<a href=\"https://colab.research.google.com/github/heyibad/genai-projects/blob/main/ai_bot_firebase.ipynb\" target=\"_parent\"><img src=\"https://colab.research.google.com/assets/colab-badge.svg\" alt=\"Open In Colab\"/></a>"
      ]
    },
    {
      "cell_type": "code",
      "execution_count": 9,
      "metadata": {
        "id": "prgE-IxpOoml",
        "colab": {
          "base_uri": "https://localhost:8080/"
        },
        "outputId": "b3e9f34f-9322-41cf-9e2f-b6abb5714c34"
      },
      "outputs": [
        {
          "output_type": "stream",
          "name": "stdout",
          "text": [
            "\u001b[?25l   \u001b[90m━━━━━━━━━━━━━━━━━━━━━━━━━━━━━━━━━━━━━━━━\u001b[0m \u001b[32m0.0/41.7 kB\u001b[0m \u001b[31m?\u001b[0m eta \u001b[36m-:--:--\u001b[0m\r\u001b[2K   \u001b[90m━━━━━━━━━━━━━━━━━━━━━━━━━━━━━━━━━━━━━━━━\u001b[0m \u001b[32m41.7/41.7 kB\u001b[0m \u001b[31m1.6 MB/s\u001b[0m eta \u001b[36m0:00:00\u001b[0m\n",
            "\u001b[?25h"
          ]
        }
      ],
      "source": [
        "!pip install -qU langchain-google-firestore langchain-google-genai"
      ]
    },
    {
      "cell_type": "code",
      "source": [
        "from google.colab import userdata\n",
        "\n",
        "PROJECT_ID = userdata.get('FIREBASE_PROJECT_ID')\n",
        "COLLECTION_NAME= 'chat_history'\n",
        "SESSION_ID = 'test'\n",
        "\n",
        "# Set the project id\n",
        "!gcloud config set project {PROJECT_ID}"
      ],
      "metadata": {
        "colab": {
          "base_uri": "https://localhost:8080/"
        },
        "id": "zJoqhMkjQfKr",
        "outputId": "99512a65-c007-4386-c759-e1c10b041f67"
      },
      "execution_count": 4,
      "outputs": [
        {
          "output_type": "stream",
          "name": "stdout",
          "text": [
            "Updated property [core/project].\n"
          ]
        }
      ]
    },
    {
      "cell_type": "code",
      "source": [
        "from google.colab import auth\n",
        "\n",
        "auth.authenticate_user()"
      ],
      "metadata": {
        "id": "2crQtaKdRPfE"
      },
      "execution_count": 3,
      "outputs": []
    },
    {
      "cell_type": "code",
      "source": [
        "from google.cloud import firestore\n",
        "from langchain_google_firestore import FirestoreChatMessageHistory\n",
        "\n",
        "db = firestore.Client(project=PROJECT_ID)\n",
        "\n",
        "history = FirestoreChatMessageHistory(\n",
        "    session_id=SESSION_ID,\n",
        "    collection=COLLECTION_NAME,\n",
        "    client=db)"
      ],
      "metadata": {
        "id": "ERPbgBJ9RhNQ"
      },
      "execution_count": 19,
      "outputs": []
    },
    {
      "cell_type": "code",
      "source": [
        "GEMINI_API= userdata.get('GEMINI_API_KEY')"
      ],
      "metadata": {
        "id": "3O7zeJvB33sP"
      },
      "execution_count": 7,
      "outputs": []
    },
    {
      "cell_type": "code",
      "source": [
        "from langchain_google_genai import ChatGoogleGenerativeAI\n",
        "\n",
        "model = ChatGoogleGenerativeAI(api_key=GEMINI_API, model=\"gemini-1.5-flash\")"
      ],
      "metadata": {
        "id": "CJfnmxCZ4UQC"
      },
      "execution_count": 16,
      "outputs": []
    },
    {
      "cell_type": "code",
      "source": [
        "print(\"Chat History Initialized\")\n",
        "print(\"The chat history is: \",history)"
      ],
      "metadata": {
        "colab": {
          "base_uri": "https://localhost:8080/"
        },
        "id": "_Taiq36S6COs",
        "outputId": "a425eb24-2bd9-4d28-e548-8be463b36fff"
      },
      "execution_count": 20,
      "outputs": [
        {
          "output_type": "stream",
          "name": "stdout",
          "text": [
            "Chat History Initialized\n",
            "The chat history is:  Human: hello brother\n",
            "AI: Hello to you too!  How can I help you today?\n",
            "Human: how is the wether\n",
            "AI: I do not have access to real-time information, including weather. To get the weather for your location, please use a weather app or website.  Many are available for free on your phone or computer.\n"
          ]
        }
      ]
    },
    {
      "cell_type": "code",
      "source": [
        "while True:\n",
        "  usr_input=input(\"User: \")\n",
        "  if usr_input.lower() == \"exit\":\n",
        "    break\n",
        "  history.add_user_message(usr_input)\n",
        "  ai_res= model.invoke(history.messages)\n",
        "  history.add_ai_message(ai_res.content)\n",
        "  print(\"AI: \",ai_res.content)"
      ],
      "metadata": {
        "colab": {
          "base_uri": "https://localhost:8080/"
        },
        "id": "9EObsMdN6Rzm",
        "outputId": "6f5f4c82-8fc7-4fca-c2ce-779710f641fe"
      },
      "execution_count": 18,
      "outputs": [
        {
          "name": "stdout",
          "output_type": "stream",
          "text": [
            "User: hello brother\n",
            "AI:  Hello to you too!  How can I help you today?\n",
            "User: how is the wether\n",
            "AI:  I do not have access to real-time information, including weather. To get the weather for your location, please use a weather app or website.  Many are available for free on your phone or computer.\n",
            "User: exit\n"
          ]
        }
      ]
    }
  ]
}