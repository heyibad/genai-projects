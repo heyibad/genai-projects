{
  "nbformat": 4,
  "nbformat_minor": 0,
  "metadata": {
    "colab": {
      "provenance": [],
      "toc_visible": true,
      "authorship_tag": "ABX9TyMfdGuXsunxpmcjKTowURV6",
      "include_colab_link": true
    },
    "kernelspec": {
      "name": "python3",
      "display_name": "Python 3"
    },
    "language_info": {
      "name": "python"
    }
  },
  "cells": [
    {
      "cell_type": "markdown",
      "metadata": {
        "id": "view-in-github",
        "colab_type": "text"
      },
      "source": [
        "<a href=\"https://colab.research.google.com/github/heyibad/genai-projects/blob/main/tool_calling.ipynb\" target=\"_parent\"><img src=\"https://colab.research.google.com/assets/colab-badge.svg\" alt=\"Open In Colab\"/></a>"
      ]
    },
    {
      "cell_type": "code",
      "execution_count": 1,
      "metadata": {
        "colab": {
          "base_uri": "https://localhost:8080/"
        },
        "id": "mfYBWe8NmmF9",
        "outputId": "feced783-771f-45ef-ac1b-5da7a1982170"
      },
      "outputs": [
        {
          "output_type": "stream",
          "name": "stdout",
          "text": [
            "\u001b[?25l   \u001b[90m━━━━━━━━━━━━━━━━━━━━━━━━━━━━━━━━━━━━━━━━\u001b[0m \u001b[32m0.0/41.7 kB\u001b[0m \u001b[31m?\u001b[0m eta \u001b[36m-:--:--\u001b[0m\r\u001b[2K   \u001b[90m━━━━━━━━━━━━━━━━━━━━━━━━━━━━━━━━━━━━━━━━\u001b[0m \u001b[32m41.7/41.7 kB\u001b[0m \u001b[31m830.2 kB/s\u001b[0m eta \u001b[36m0:00:00\u001b[0m\n",
            "\u001b[?25h"
          ]
        }
      ],
      "source": [
        "!pip install -qU langchain-google-genai"
      ]
    },
    {
      "cell_type": "code",
      "source": [
        "from google.colab import userdata\n",
        "import os\n",
        "\n",
        "GEMINI_API=userdata.get('GEMINI_API_KEY')\n",
        "\n",
        "os.environ['GOOGLE_API_KEY']=GEMINI_API"
      ],
      "metadata": {
        "id": "3u9JXdMXnLY6"
      },
      "execution_count": 2,
      "outputs": []
    },
    {
      "cell_type": "code",
      "source": [
        "from langchain_google_genai import ChatGoogleGenerativeAI\n",
        "\n",
        "llm = ChatGoogleGenerativeAI(model=\"gemini-2.0-flash-exp\")"
      ],
      "metadata": {
        "id": "uy0heifan1su"
      },
      "execution_count": 3,
      "outputs": []
    },
    {
      "cell_type": "code",
      "source": [
        "from langchain_core.tools import tool\n",
        "from typing import Union\n",
        "\n",
        "@tool\n",
        "def multiply(a: Union[int, float], b: Union[int, float]) -> Union[int, float]:\n",
        "    \"\"\"Multiply two numbers. Use for questions like '5 times 3' or 'product of 12 and 4'.\"\"\"\n",
        "    return a * b\n",
        "\n",
        "@tool\n",
        "def divide(a: Union[int, float], b: Union[int, float]) -> Union[int, float]:\n",
        "    \"\"\"Divide two numbers. Returns error for division by zero. Use for '10 divided by 2'.\"\"\"\n",
        "    if b == 0:\n",
        "        return \"Error: Division by zero\"\n",
        "    return a / b\n",
        "\n",
        "@tool\n",
        "def add(a: Union[int, float], b: Union[int, float]) -> Union[int, float]:\n",
        "    \"\"\"Add two numbers. Use for 'sum of 5 and 3' or 'what is 12 + 4?'.\"\"\"\n",
        "    return a + b\n",
        "\n",
        "@tool\n",
        "def subtract(a: Union[int, float], b: Union[int, float]) -> Union[int, float]:\n",
        "    \"\"\"Subtract two numbers. Use for '5 minus 3' or 'difference between 12 and 4'.\"\"\"\n",
        "    return a - b\n",
        "\n",
        "tools = [multiply, divide, add, subtract]"
      ],
      "metadata": {
        "id": "UaEERJ63olz9"
      },
      "execution_count": 4,
      "outputs": []
    },
    {
      "cell_type": "code",
      "source": [
        "from langchain.agents import initialize_agent\n",
        "from langchain.agents import AgentType\n",
        "\n",
        "from langchain_core.messages import HumanMessage, SystemMessage, AIMessage, ToolMessage\n",
        "\n",
        "\n",
        "\n",
        "# Store conversation history in a list\n",
        "conversation_history = [\n",
        "    SystemMessage(\n",
        "        content=\"You are a calculator. Only use your tools for math operations. \"\n",
        "                \"For non-math questions, say: 'I can only perform calculations.' \"\n",
        "                \"Always show your work using tools.\"\n",
        "    )\n",
        "]\n",
        "\n",
        "agent = initialize_agent(\n",
        "    tools,\n",
        "    llm,\n",
        "    agent=AgentType.STRUCTURED_CHAT_ZERO_SHOT_REACT_DESCRIPTION,\n",
        "     verbose=True,  # Shows tool usage in console\n",
        "    handle_parsing_errors=True,\n",
        "    max_iterations=3\n",
        ")"
      ],
      "metadata": {
        "id": "kt11zyHppvzk",
        "colab": {
          "base_uri": "https://localhost:8080/"
        },
        "outputId": "f7d59ef7-1cc3-484f-9dcb-1af7fe7c5dfd"
      },
      "execution_count": 5,
      "outputs": [
        {
          "output_type": "stream",
          "name": "stderr",
          "text": [
            "<ipython-input-5-ee65732b545f>:17: LangChainDeprecationWarning: LangChain agents will continue to be supported, but it is recommended for new use cases to be built with LangGraph. LangGraph offers a more flexible and full-featured framework for building agents, including support for tool-calling, persistence of state, and human-in-the-loop workflows. For details, refer to the `LangGraph documentation <https://langchain-ai.github.io/langgraph/>`_ as well as guides for `Migrating from AgentExecutor <https://python.langchain.com/docs/how_to/migrate_agent/>`_ and LangGraph's `Pre-built ReAct agent <https://langchain-ai.github.io/langgraph/how-tos/create-react-agent/>`_.\n",
            "  agent = initialize_agent(\n"
          ]
        }
      ]
    },
    {
      "cell_type": "code",
      "source": [
        "print(\"Calculator Bot: I can perform +, -, ×, ÷ operations.\")\n",
        "print(\"Type 'exit', 'end', or 'goodbye' to quit\\n\" + \"=\"*40)\n",
        "\n",
        "while True:\n",
        "    user_input = input(\"\\nYour input: \").strip()\n",
        "\n",
        "    if user_input.lower() in [\"exit\", \"end\", \"goodbye\"]:\n",
        "        print(\"\\nCalculator Bot: Goodbye!\")\n",
        "        break\n",
        "\n",
        "    # Add user message to history\n",
        "    conversation_history.append(HumanMessage(content=user_input))\n",
        "\n",
        "    try:\n",
        "        response = agent.invoke({\n",
        "            \"input\": user_input,\n",
        "            \"chat_history\": conversation_history\n",
        "        })\n",
        "\n",
        "        # Add AI response to history\n",
        "        ai_response = response[\"output\"]\n",
        "        conversation_history.append(AIMessage(content=ai_response))\n",
        "\n",
        "        print(\"\\n\" + \"=\"*40)\n",
        "        print(f\"User: {user_input}\")\n",
        "        print(f\"Bot: {ai_response}\")\n",
        "        print(\"=\"*40)\n",
        "\n",
        "    except Exception as e:\n",
        "        error_msg = f\"Error: {str(e)}\"\n",
        "        conversation_history.append(AIMessage(content=error_msg))\n",
        "        print(error_msg)"
      ],
      "metadata": {
        "colab": {
          "base_uri": "https://localhost:8080/"
        },
        "id": "rDlBk8vMqNEA",
        "outputId": "38ebbebe-b6b1-43ff-cd26-09ff65bca6dd"
      },
      "execution_count": 7,
      "outputs": [
        {
          "output_type": "stream",
          "name": "stdout",
          "text": [
            "Calculator Bot: I can perform +, -, ×, ÷ operations.\n",
            "Type 'exit', 'end', or 'goodbye' to quit\n",
            "========================================\n",
            "\n",
            "Your input: weather\n",
            "\n",
            "\n",
            "\u001b[1m> Entering new AgentExecutor chain...\u001b[0m\n",
            "\u001b[32;1m\u001b[1;3mAction:\n",
            "```\n",
            "{\n",
            "  \"action\": \"Final Answer\",\n",
            "  \"action_input\": \"I am a calculator and cannot provide weather information.\"\n",
            "}\n",
            "```\u001b[0m\n",
            "\n",
            "\u001b[1m> Finished chain.\u001b[0m\n",
            "\n",
            "========================================\n",
            "User: weather\n",
            "Bot: I am a calculator and cannot provide weather information.\n",
            "========================================\n",
            "\n",
            "Your input: 2 profuct 4\n",
            "\n",
            "\n",
            "\u001b[1m> Entering new AgentExecutor chain...\u001b[0m\n",
            "\u001b[32;1m\u001b[1;3mThought: The user is asking for the product of 2 and 4. I should use the multiply tool.\n",
            "Action:\n",
            "```\n",
            "{\n",
            "  \"action\": \"multiply\",\n",
            "  \"action_input\": {\n",
            "    \"a\": 2,\n",
            "    \"b\": 4\n",
            "  }\n",
            "}\n",
            "```\u001b[0m\n",
            "Observation: \u001b[36;1m\u001b[1;3m8\u001b[0m\n",
            "Thought:\u001b[32;1m\u001b[1;3mI have calculated the product.\n",
            "Action:\n",
            "```\n",
            "{\n",
            "  \"action\": \"Final Answer\",\n",
            "  \"action_input\": \"The product of 2 and 4 is 8.\"\n",
            "}\n",
            "```\u001b[0m\n",
            "\n",
            "\u001b[1m> Finished chain.\u001b[0m\n",
            "\n",
            "========================================\n",
            "User: 2 profuct 4\n",
            "Bot: The product of 2 and 4 is 8.\n",
            "========================================\n",
            "\n",
            "Your input: exit\n",
            "\n",
            "Calculator Bot: Goodbye!\n"
          ]
        }
      ]
    },
    {
      "cell_type": "code",
      "source": [
        "conversation_history"
      ],
      "metadata": {
        "colab": {
          "base_uri": "https://localhost:8080/"
        },
        "id": "lCoMCYBHxPnb",
        "outputId": "cc4c89b8-9b41-4170-c2a9-9edf43013494"
      },
      "execution_count": 8,
      "outputs": [
        {
          "output_type": "execute_result",
          "data": {
            "text/plain": [
              "[SystemMessage(content=\"You are a calculator. Only use your tools for math operations. For non-math questions, say: 'I can only perform calculations.' Always show your work using tools.\", additional_kwargs={}, response_metadata={}),\n",
              " HumanMessage(content='weather', additional_kwargs={}, response_metadata={}),\n",
              " AIMessage(content='I am a calculator and cannot provide weather information.', additional_kwargs={}, response_metadata={}),\n",
              " HumanMessage(content='2 profuct 4', additional_kwargs={}, response_metadata={}),\n",
              " AIMessage(content='The product of 2 and 4 is 8.', additional_kwargs={}, response_metadata={})]"
            ]
          },
          "metadata": {},
          "execution_count": 8
        }
      ]
    }
  ]
}